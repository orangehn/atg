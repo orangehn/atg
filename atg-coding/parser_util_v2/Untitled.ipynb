{
 "cells": [
  {
   "cell_type": "code",
   "execution_count": 1,
   "metadata": {},
   "outputs": [
    {
     "ename": "FileNotFoundError",
     "evalue": "[Errno 2] No such file or directory: 'input.csv'",
     "output_type": "error",
     "traceback": [
      "\u001b[1;31m---------------------------------------------------------------------------\u001b[0m",
      "\u001b[1;31mFileNotFoundError\u001b[0m                         Traceback (most recent call last)",
      "\u001b[1;32m<ipython-input-1-1dde43adaefa>\u001b[0m in \u001b[0;36m<module>\u001b[1;34m\u001b[0m\n\u001b[1;32m----> 1\u001b[1;33m \u001b[0mlines\u001b[0m \u001b[1;33m=\u001b[0m \u001b[0mopen\u001b[0m\u001b[1;33m(\u001b[0m\u001b[1;34m\"input.csv\"\u001b[0m\u001b[1;33m)\u001b[0m\u001b[1;33m.\u001b[0m\u001b[0mreadlines\u001b[0m\u001b[1;33m(\u001b[0m\u001b[1;33m)\u001b[0m\u001b[1;33m\u001b[0m\u001b[1;33m\u001b[0m\u001b[0m\n\u001b[0m\u001b[0;32m      2\u001b[0m \u001b[0mdatas\u001b[0m \u001b[1;33m=\u001b[0m \u001b[1;33m[\u001b[0m\u001b[0mline\u001b[0m\u001b[1;33m.\u001b[0m\u001b[0mstrip\u001b[0m\u001b[1;33m(\u001b[0m\u001b[1;34m'\\n'\u001b[0m\u001b[1;33m)\u001b[0m \u001b[1;33m.\u001b[0m\u001b[0msplit\u001b[0m\u001b[1;33m(\u001b[0m\u001b[1;34m','\u001b[0m\u001b[1;33m)\u001b[0m \u001b[1;32mfor\u001b[0m \u001b[0mline\u001b[0m \u001b[1;32min\u001b[0m \u001b[0mlines\u001b[0m\u001b[1;33m]\u001b[0m\u001b[1;33m\u001b[0m\u001b[1;33m\u001b[0m\u001b[0m\n\u001b[0;32m      3\u001b[0m \u001b[0mdata_dict\u001b[0m \u001b[1;33m=\u001b[0m \u001b[1;33m{\u001b[0m\u001b[1;33m}\u001b[0m\u001b[1;33m\u001b[0m\u001b[1;33m\u001b[0m\u001b[0m\n\u001b[0;32m      4\u001b[0m \u001b[1;32mfor\u001b[0m \u001b[0mdata\u001b[0m \u001b[1;32min\u001b[0m \u001b[0mdatas\u001b[0m\u001b[1;33m:\u001b[0m\u001b[1;33m\u001b[0m\u001b[1;33m\u001b[0m\u001b[0m\n\u001b[0;32m      5\u001b[0m     \u001b[0mdata_dict\u001b[0m\u001b[1;33m[\u001b[0m\u001b[0mdata\u001b[0m\u001b[1;33m[\u001b[0m\u001b[1;36m0\u001b[0m\u001b[1;33m]\u001b[0m\u001b[1;33m]\u001b[0m \u001b[1;33m=\u001b[0m \u001b[1;33m[\u001b[0m\u001b[0md\u001b[0m\u001b[1;33m.\u001b[0m\u001b[0mstrip\u001b[0m\u001b[1;33m(\u001b[0m\u001b[1;33m)\u001b[0m \u001b[1;32mfor\u001b[0m \u001b[0md\u001b[0m \u001b[1;32min\u001b[0m \u001b[0mdata\u001b[0m\u001b[1;33m[\u001b[0m\u001b[1;36m1\u001b[0m\u001b[1;33m:\u001b[0m\u001b[1;33m]\u001b[0m \u001b[1;32mif\u001b[0m \u001b[0mlen\u001b[0m\u001b[1;33m(\u001b[0m\u001b[0md\u001b[0m\u001b[1;33m.\u001b[0m\u001b[0mstrip\u001b[0m\u001b[1;33m(\u001b[0m\u001b[1;33m)\u001b[0m\u001b[1;33m)\u001b[0m \u001b[1;33m>\u001b[0m \u001b[1;36m0\u001b[0m\u001b[1;33m]\u001b[0m \u001b[1;31m#删除data[1:]中的空字符串， if是保留条件\u001b[0m\u001b[1;33m\u001b[0m\u001b[1;33m\u001b[0m\u001b[0m\n",
      "\u001b[1;31mFileNotFoundError\u001b[0m: [Errno 2] No such file or directory: 'input.csv'"
     ]
    }
   ],
   "source": [
    "lines = open(\"input.csv\").readlines()\n",
    "datas = [line.strip('\\n') .split(',') for line in lines]\n",
    "data_dict = {}\n",
    "for data in datas:\n",
    "    data_dict[data[0]] = [d.strip() for d in data[1:] if len(d.strip()) > 0] #删除data[1:]中的空字符串， if是保留条件\n",
    "# print(data_dict.keys())\n",
    "# print()\n",
    "# print(data_dict['ADD'])\n",
    "\n",
    "inputs = []\n",
    "for data_input in data_dict.values():\n",
    "    inputs.extend(data_input)\n",
    "inputs_set = list(set(inputs)) #除重\n",
    "\n",
    "inst_names = list(data_dict.keys())\n",
    "\n",
    "inputs_count = {}\n",
    "for data_input in data_dict.values():\n",
    "    for a_input in data_input:\n",
    "        if a_input in inputs_count:\n",
    "            inputs_count[a_input] += 1\n",
    "        else:\n",
    "            inputs_count[a_input] = 1\n",
    "\n",
    "inputs_count = list(inputs_count.items())\n",
    "inputs_count = sorted(inputs_count, key=lambda x:x[1]) #按count排序\n",
    "inputs_set = [a_input for a_input, count in inputs_count] \n",
    "print(inputs_set)\n",
    "\n",
    "\n",
    "datas_inst_name = []\n",
    "datas_input_onehot = []\n",
    "for inst_name, data_input in data_dict.items():\n",
    "    onehot = [0] * len(inputs_set)\n",
    "    for i, a_input in enumerate(inputs_set): # 按照inputs_set的input顺序\n",
    "        if a_input in data_input: # 如果该命令有这个input,这个位置就置1，否则置0\n",
    "            onehot[i] = 1\n",
    "    datas_input_onehot.append(onehot)\n",
    "    datas_inst_name.append(inst_name)\n",
    "\n",
    "# print(datas_input_onehot)\n",
    "# print(datas_inst_name)\n",
    "\n",
    "\n",
    "file_handle = open(\"arg-count.csv\", mode='w')\n",
    "for inst_name in datas_inst_name:\n",
    "    file_handle.write(inst_name + \",\")\n",
    "    for onehot in datas_input_onehot:\n",
    "        s = []\n",
    "        for one in onehot:\n",
    "            ss = str(one)\n",
    "            s.append(ss)\n",
    "        print(s)\n",
    "        file_handle.write(\",\".join(s) + \"\\n\")\n",
    "file_handle.close()\n"
   ]
  },
  {
   "cell_type": "code",
   "execution_count": null,
   "metadata": {},
   "outputs": [],
   "source": []
  }
 ],
 "metadata": {
  "kernelspec": {
   "display_name": "Python 3",
   "language": "python",
   "name": "python3"
  },
  "language_info": {
   "codemirror_mode": {
    "name": "ipython",
    "version": 3
   },
   "file_extension": ".py",
   "mimetype": "text/x-python",
   "name": "python",
   "nbconvert_exporter": "python",
   "pygments_lexer": "ipython3",
   "version": "3.7.7"
  }
 },
 "nbformat": 4,
 "nbformat_minor": 4
}
